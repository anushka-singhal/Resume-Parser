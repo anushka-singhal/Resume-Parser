{
 "cells": [
  {
   "cell_type": "code",
   "execution_count": 1,
   "id": "7b0f0e8e",
   "metadata": {},
   "outputs": [
    {
     "name": "stdout",
     "output_type": "stream",
     "text": [
      "Requirement already satisfied: nltk in c:\\users\\itsan\\anaconda3\\lib\\site-packages (3.7)\n",
      "Requirement already satisfied: click in c:\\users\\itsan\\anaconda3\\lib\\site-packages (from nltk) (8.0.4)\n",
      "Requirement already satisfied: regex>=2021.8.3 in c:\\users\\itsan\\anaconda3\\lib\\site-packages (from nltk) (2022.7.9)\n",
      "Requirement already satisfied: tqdm in c:\\users\\itsan\\anaconda3\\lib\\site-packages (from nltk) (4.64.1)\n",
      "Requirement already satisfied: joblib in c:\\users\\itsan\\anaconda3\\lib\\site-packages (from nltk) (1.1.0)\n",
      "Requirement already satisfied: colorama in c:\\users\\itsan\\anaconda3\\lib\\site-packages (from click->nltk) (0.4.5)\n"
     ]
    }
   ],
   "source": [
    "!pip install nltk\n"
   ]
  },
  {
   "cell_type": "code",
   "execution_count": 2,
   "id": "907403c7",
   "metadata": {},
   "outputs": [
    {
     "name": "stderr",
     "output_type": "stream",
     "text": [
      "[nltk_data] Downloading package punkt to\n",
      "[nltk_data]     C:\\Users\\itsan\\AppData\\Roaming\\nltk_data...\n",
      "[nltk_data]   Package punkt is already up-to-date!\n"
     ]
    },
    {
     "data": {
      "text/plain": [
       "True"
      ]
     },
     "execution_count": 2,
     "metadata": {},
     "output_type": "execute_result"
    }
   ],
   "source": [
    "import nltk\n",
    "nltk.download('punkt')\n"
   ]
  },
  {
   "cell_type": "code",
   "execution_count": 3,
   "id": "0576acbc",
   "metadata": {},
   "outputs": [],
   "source": [
    "job_description = \"We are looking for a candidate with strong programming skills in Python and experience with data analysis.\"\n",
    "\n",
    "resumes = [\n",
    "    \"I have extensive experience in Python programming and have worked on multiple data analysis projects using pandas and numpy.\",\n",
    "    \"My skills include Java programming and database management.\",\n",
    "    \"I am proficient in Python and have experience in data manipulation and analysis.\"\n",
    "]\n"
   ]
  },
  {
   "cell_type": "code",
   "execution_count": 4,
   "id": "c3f03893",
   "metadata": {},
   "outputs": [],
   "source": [
    "from nltk.tokenize import word_tokenize\n",
    "\n",
    "job_tokens = word_tokenize(job_description)\n",
    "resume_tokens_list = [word_tokenize(resume) for resume in resumes]\n"
   ]
  },
  {
   "cell_type": "code",
   "execution_count": 5,
   "id": "a1318158",
   "metadata": {},
   "outputs": [],
   "source": [
    "matching_scores = []\n",
    "for resume_tokens in resume_tokens_list:\n",
    "    matching_skills = [token for token in job_tokens if token in resume_tokens]\n",
    "    matching_score = len(matching_skills) / len(job_tokens)\n",
    "    matching_scores.append(matching_score)\n"
   ]
  },
  {
   "cell_type": "code",
   "execution_count": 6,
   "id": "a9cc3da2",
   "metadata": {},
   "outputs": [],
   "source": [
    "best_candidate_index = matching_scores.index(max(matching_scores))\n",
    "best_candidate = resumes[best_candidate_index]\n"
   ]
  },
  {
   "cell_type": "code",
   "execution_count": 7,
   "id": "bcf531dc",
   "metadata": {},
   "outputs": [
    {
     "name": "stdout",
     "output_type": "stream",
     "text": [
      "Best candidate for the job:\n",
      "I have extensive experience in Python programming and have worked on multiple data analysis projects using pandas and numpy.\n"
     ]
    }
   ],
   "source": [
    "print(\"Best candidate for the job:\")\n",
    "print(best_candidate)\n"
   ]
  },
  {
   "cell_type": "code",
   "execution_count": null,
   "id": "0a5f2aef",
   "metadata": {},
   "outputs": [],
   "source": []
  }
 ],
 "metadata": {
  "kernelspec": {
   "display_name": "Python 3 (ipykernel)",
   "language": "python",
   "name": "python3"
  },
  "language_info": {
   "codemirror_mode": {
    "name": "ipython",
    "version": 3
   },
   "file_extension": ".py",
   "mimetype": "text/x-python",
   "name": "python",
   "nbconvert_exporter": "python",
   "pygments_lexer": "ipython3",
   "version": "3.9.13"
  }
 },
 "nbformat": 4,
 "nbformat_minor": 5
}
